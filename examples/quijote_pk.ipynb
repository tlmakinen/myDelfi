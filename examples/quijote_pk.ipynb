{
  "cells": [
    {
      "cell_type": "code",
      "execution_count": 1,
      "id": "4abaa305",
      "metadata": {},
      "outputs": [
        {
          "name": "stdout",
          "output_type": "stream",
          "text": [
            "/Users/lucas/repositories/myDelfi\n"
          ]
        }
      ],
      "source": [
        "cd /Users/lucas/repositories/myDelfi"
      ]
    },
    {
      "cell_type": "code",
      "execution_count": 2,
      "id": "2ac5bafc",
      "metadata": {
        "id": "2ac5bafc"
      },
      "outputs": [
        {
          "name": "stderr",
          "output_type": "stream",
          "text": [
            "/usr/local/anaconda3/lib/python3.8/site-packages/keras/optimizer_v2/adam.py:105: UserWarning: The `lr` argument is deprecated, use `learning_rate` instead.\n",
            "  super(Adam, self).__init__(name, **kwargs)\n"
          ]
        }
      ],
      "source": [
        "import numpy as np\n",
        "import matplotlib.pyplot as plt\n",
        "import tensorflow as tf\n",
        "from plotting import *\n",
        "from ndes import *\n",
        "from mdn import *"
      ]
    },
    {
      "cell_type": "code",
      "execution_count": 133,
      "id": "cb402ba8",
      "metadata": {},
      "outputs": [
        {
          "data": {
            "text/plain": [
              "'0.15.0-dev20211116'"
            ]
          },
          "execution_count": 133,
          "metadata": {},
          "output_type": "execute_result"
        }
      ],
      "source": [
        "tfp.__version__"
      ]
    },
    {
      "cell_type": "code",
      "execution_count": 3,
      "id": "azvJBwf1fXeH",
      "metadata": {
        "colab": {
          "base_uri": "https://localhost:8080/"
        },
        "id": "azvJBwf1fXeH",
        "outputId": "0ee07ac1-ca8b-4a4d-ca55-0c3554038cc7"
      },
      "outputs": [
        {
          "name": "stdout",
          "output_type": "stream",
          "text": [
            "Num GPUs Available:  0\n"
          ]
        }
      ],
      "source": [
        "import tensorflow as tf\n",
        "print(\"Num GPUs Available: \", len(tf.config.list_physical_devices('GPU')))"
      ]
    },
    {
      "cell_type": "code",
      "execution_count": 35,
      "id": "423eaa2d",
      "metadata": {
        "id": "423eaa2d"
      },
      "outputs": [],
      "source": [
        "# import data\n",
        "theta_ = (np.load('tpcf_params.npy').astype(np.float32))\n",
        "summaries_ = np.load('tpcf_data.npy').astype(np.float32)[:, ::4] # take every 4th pk bin\n",
        "\n",
        "\n",
        "weights = np.ones((summaries_.shape[0], 1)).astype(np.float32)\n",
        "\n",
        "# bijector theta -> phi\n",
        "theta_min = [0.05, 0.45, 0.59]\n",
        "theta_max = [0.5, 0.9, 1.0]\n",
        "bijector = tfb.Blockwise([tfb.Chain([tfb.Invert(tfb.NormalCDF()), tfb.Scale(np.float32(1./(theta_max[_] - theta_min[_]))), tfb.Shift(-theta_min[_])]) for _ in range(len(theta_min))])\n",
        "\n",
        "# phi\n",
        "phi_ = bijector(theta_).numpy()"
      ]
    },
    {
      "cell_type": "code",
      "execution_count": 42,
      "id": "QQmW3z_rfner",
      "metadata": {
        "id": "QQmW3z_rfner"
      },
      "outputs": [],
      "source": [
        "theta = tf.convert_to_tensor(theta_, dtype=tf.float32)\n",
        "phi   = tf.convert_to_tensor(phi_, dtype=tf.float32)\n",
        "weights = tf.convert_to_tensor(weights, dtype=tf.float32)\n",
        "summaries = tf.convert_to_tensor(summaries_, dtype=tf.float32)"
      ]
    },
    {
      "cell_type": "code",
      "execution_count": 62,
      "id": "4f3e7a6a",
      "metadata": {
        "colab": {
          "base_uri": "https://localhost:8080/"
        },
        "id": "4f3e7a6a",
        "outputId": "90fd3a27-9cbc-4879-a0d4-1556ef30ee0e"
      },
      "outputs": [
        {
          "name": "stderr",
          "output_type": "stream",
          "text": [
            "/usr/local/anaconda3/lib/python3.8/site-packages/keras/optimizer_v2/adam.py:105: UserWarning: The `lr` argument is deprecated, use `learning_rate` instead.\n",
            "  super(Adam, self).__init__(name, **kwargs)\n"
          ]
        }
      ],
      "source": [
        "# Amortized posterior\n",
        "filename = 'amort_quijote'\n",
        "AmortizedPosterior = MixtureDensityNetwork2(n_components=5, \n",
        "                            n_conditionals=56, # number of p(k) summaries\n",
        "                            n_dimensions=3,  # number of parameters\n",
        "                            optimizer=tf.keras.optimizers.Adam(lr=1e-4),\n",
        "                            n_hidden=[64, 64],\n",
        "                            activation=[tf.tanh, tf.tanh])"
      ]
    },
    {
      "cell_type": "code",
      "execution_count": 134,
      "id": "10f919cb",
      "metadata": {},
      "outputs": [
        {
          "name": "stderr",
          "output_type": "stream",
          "text": [
            " 26%|██▌       | 783/3000 [00:53<02:31, 14.65it/s, training loss=1.28, validation_loss=1.54] \n"
          ]
        }
      ],
      "source": [
        "#AmortizedPosterior.optimizer = tf.keras.optimizers.Adam(lr=1e-3)\n",
        "historyAP = AmortizedPosterior.fit(training_conditionals=summaries, training_variables=phi, training_weights=weights, \n",
        "                        epochs=3000, batch_size=100, patience=500, save=True, filename=filename)"
      ]
    },
    {
      "cell_type": "code",
      "execution_count": 135,
      "id": "ea570203",
      "metadata": {
        "id": "ea570203"
      },
      "outputs": [
        {
          "name": "stderr",
          "output_type": "stream",
          "text": [
            "/usr/local/anaconda3/lib/python3.8/site-packages/keras/optimizer_v2/adam.py:105: UserWarning: The `lr` argument is deprecated, use `learning_rate` instead.\n",
            "  super(Adam, self).__init__(name, **kwargs)\n"
          ]
        }
      ],
      "source": [
        "# reload best model\n",
        "AmortizedPosterior = MixtureDensityNetwork2(n_components=5, \n",
        "                            n_conditionals=56, \n",
        "                            n_dimensions=3, \n",
        "                            optimizer=tf.keras.optimizers.Adam(lr=1e-4),\n",
        "                            n_hidden=[64, 64],\n",
        "                            activation=[tf.tanh, tf.tanh],\n",
        "                            restore=True,\n",
        "                            restore_filename=filename)"
      ]
    },
    {
      "cell_type": "code",
      "execution_count": 136,
      "id": "a2b40830",
      "metadata": {
        "id": "a2b40830"
      },
      "outputs": [],
      "source": [
        "# choose the first sim as our target data\n",
        "summaries_obs = summaries_[0]"
      ]
    },
    {
      "cell_type": "code",
      "execution_count": 137,
      "id": "9d320e5f",
      "metadata": {
        "id": "9d320e5f"
      },
      "outputs": [],
      "source": [
        "Posterior = AmortizedPosterior.distribution(summaries_obs[np.newaxis, :].astype(np.float32))\n",
        "\n",
        "posterior_samples = bijector.inverse(Posterior.sample(100000)).numpy()\n",
        "cut = np.all(~np.isinf(posterior_samples), axis=-1)\n",
        "posterior_samples = posterior_samples[cut,:]"
      ]
    },
    {
      "cell_type": "code",
      "execution_count": 138,
      "id": "fSObTwCjikGC",
      "metadata": {
        "colab": {
          "base_uri": "https://localhost:8080/",
          "height": 372
        },
        "id": "fSObTwCjikGC",
        "outputId": "502326e1-d148-467e-8577-bc1ba9416c6a"
      },
      "outputs": [
        {
          "data": {
            "text/plain": [
              "(array([   37.,   309.,  2552., 11264., 23535., 27491., 21715., 10567.,\n",
              "         2335.,   195.]),\n",
              " array([0.2491741 , 0.26806936, 0.28696463, 0.30585986, 0.32475513,\n",
              "        0.3436504 , 0.36254564, 0.3814409 , 0.40033618, 0.4192314 ,\n",
              "        0.43812668], dtype=float32),\n",
              " <BarContainer object of 10 artists>)"
            ]
          },
          "execution_count": 138,
          "metadata": {},
          "output_type": "execute_result"
        },
        {
          "data": {
            "image/png": "[encoded data removed]",
            "text/plain": [
              "<Figure size 432x288 with 1 Axes>"
            ]
          },
          "metadata": {
            "needs_background": "light"
          },
          "output_type": "display_data"
        }
      ],
      "source": [
        "plt.hist(posterior_samples[:, 0])"
      ]
    },
    {
      "cell_type": "code",
      "execution_count": 139,
      "id": "EIdfvpeA4igE",
      "metadata": {
        "colab": {
          "base_uri": "https://localhost:8080/",
          "height": 522
        },
        "id": "EIdfvpeA4igE",
        "outputId": "0e4c91f9-0c6c-4a97-85e2-f76828d0d67f"
      },
      "outputs": [
        {
          "data": {
            "image/png": "[encoded data removed]",
            "text/plain": [
              "<Figure size 504x504 with 9 Axes>"
            ]
          },
          "metadata": {
            "needs_background": "light"
          },
          "output_type": "display_data"
        }
      ],
      "source": [
        "from chainconsumer import ChainConsumer\n",
        "\n",
        "_psts = posterior_samples.copy()\n",
        "#_psts[:, 0] = 0.3*(posterior_samples[:, 0]**2 / posterior_samples[:, 1]**2)\n",
        "\n",
        "cs = ChainConsumer()\n",
        "cs.add_chain(_psts, parameters=['omegaM', 'sigma8', 'h'], name='DELFI') #, color=corner_colors[0])\n",
        "#cs.add_covariance(θ_target, -Finv_analytic, parameters=params, name=\"Analytic Fisher\", color=corner_colors[2])\n",
        "cs.configure(linestyles=[\"-\", \"-\", \"-\"], linewidths=[1.0, 1.0, 1.0], usetex=False,\n",
        "        shade=[True, True, False], shade_alpha=[0.7, 0.6, 0.], tick_font_size=8, sigma2d=True)\n",
        "cs.plotter.plot((7,7), truth=theta_[0])\n",
        "plt.show()"
      ]
    },
    {
      "cell_type": "markdown",
      "id": "qw3jB_wmpEKN",
      "metadata": {
        "id": "qw3jB_wmpEKN"
      },
      "source": [
        "# now set up PIT coverage tests\n",
        "\n",
        "for every pair (theta*, data*) in the training set, for each of the marginals compute P(theta < theta* | data*), and plot the distribution of those cumulative probabilities"
      ]
    },
    {
      "cell_type": "code",
      "execution_count": 140,
      "id": "b1953474",
      "metadata": {},
      "outputs": [],
      "source": [
        "from tqdm import tqdm"
      ]
    },
    {
      "cell_type": "code",
      "execution_count": 141,
      "id": "2PQ28EVlqEJz",
      "metadata": {
        "id": "2PQ28EVlqEJz"
      },
      "outputs": [
        {
          "name": "stderr",
          "output_type": "stream",
          "text": [
            "100%|██████████| 1600/1600 [03:49<00:00,  6.98it/s]\n"
          ]
        }
      ],
      "source": [
        "omegam_cdfs = []\n",
        "sigma8_cdfs = []\n",
        "h_cdfs = []\n",
        "\n",
        "for i in tqdm(range(1600)):\n",
        "  theta_i = theta_[i]\n",
        "  summary_i = summaries_[i]\n",
        "  # could add tfp mixture model here for more than one MDN\n",
        "  # p(theta | x)\n",
        "  dist = AmortizedPosterior.distribution(summary_i[np.newaxis, :].astype(np.float32))\n",
        "  \n",
        "  samps = bijector.inverse(dist.sample(100000)).numpy()\n",
        "  cut = np.all(~np.isinf(samps), axis=-1)\n",
        "  samps = samps[cut,:]\n",
        "  norm = samps.shape[0]\n",
        "\n",
        "\n",
        "  #for each marginal\n",
        "  omegam_cdfs.append(np.sum(samps[:, 0] <= theta_i[0]) / norm) \n",
        "  sigma8_cdfs.append(np.sum(samps[:, 1] <= theta_i[1]) / norm)\n",
        "  h_cdfs.append(np.sum(samps[:, 2] <= theta_i[2]) / norm)\n",
        "  #plt.hist(samps[:, 1])\n",
        "  #plt.axvline(theta_i[:, 1])\n",
        "  \n",
        "  "
      ]
    },
    {
      "cell_type": "code",
      "execution_count": 143,
      "id": "c5f3111d",
      "metadata": {},
      "outputs": [],
      "source": [
        "bins = 20\n",
        "nsamps = 1600\n",
        "\n",
        "uniform_layer = nsamps / bins\n",
        "std = np.sqrt(uniform_layer)"
      ]
    },
    {
      "cell_type": "code",
      "execution_count": 144,
      "id": "a61b62c4",
      "metadata": {},
      "outputs": [
        {
          "data": {
            "text/plain": [
              "Text(0.5, 0, 'h-PIT')"
            ]
          },
          "execution_count": 144,
          "metadata": {},
          "output_type": "execute_result"
        },
        {
          "data": {
            "image/png": "[encoded data removed]",
            "text/plain": [
              "<Figure size 432x288 with 3 Axes>"
            ]
          },
          "metadata": {
            "needs_background": "light"
          },
          "output_type": "display_data"
        }
      ],
      "source": [
        "plt.subplot(131)\n",
        "plt.hist(omegam_cdfs, bins=bins, density=False)\n",
        "plt.axhline(uniform_layer, color='k')\n",
        "plt.axhline(uniform_layer - std, color='k', ls=':')\n",
        "plt.axhline(uniform_layer + std, color='k', ls=':')\n",
        "\n",
        "plt.xlabel('omegam-PIT')\n",
        "\n",
        "plt.subplot(132)\n",
        "plt.hist(sigma8_cdfs, bins=bins, density=False)\n",
        "plt.axhline(uniform_layer, color='k')\n",
        "\n",
        "plt.axhline(uniform_layer - std, color='k', ls=':')\n",
        "plt.axhline(uniform_layer + std, color='k', ls=':')\n",
        "\n",
        "plt.xlabel('sigma8-PIT')\n",
        "\n",
        "plt.subplot(133)\n",
        "plt.hist(h_cdfs, bins=bins, density=False)\n",
        "plt.axhline(uniform_layer, color='k')\n",
        "\n",
        "plt.axhline(uniform_layer - std, color='k', ls=':')\n",
        "plt.axhline(uniform_layer + std, color='k', ls=':')\n",
        "\n",
        "plt.xlabel('h-PIT')"
      ]
    },
    {
      "cell_type": "code",
      "execution_count": null,
      "id": "fa2cc2c9",
      "metadata": {},
      "outputs": [],
      "source": []
    }
  ],
  "metadata": {
    "accelerator": "GPU",
    "colab": {
      "provenance": []
    },
    "gpuClass": "standard",
    "kernelspec": {
      "display_name": "Python 3",
      "language": "python",
      "name": "python3"
    },
    "language_info": {
      "codemirror_mode": {
        "name": "ipython",
        "version": 3
      },
      "file_extension": ".py",
      "mimetype": "text/x-python",
      "name": "python",
      "nbconvert_exporter": "python",
      "pygments_lexer": "ipython3",
      "version": "3.8.8"
    },
    "vscode": {
      "interpreter": {
        "hash": "40d3a090f54c6569ab1632332b64b2c03c39dcf918b08424e98f38b5ae0af88f"
      }
    }
  },
  "nbformat": 4,
  "nbformat_minor": 5
}
